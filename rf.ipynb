{
 "cells": [
  {
   "cell_type": "code",
   "execution_count": 1,
   "metadata": {},
   "outputs": [],
   "source": [
    "from xgboost import XGBRegressor\n",
    "import pandas as pd\n",
    "import matplotlib.pyplot as plt\n",
    "import seaborn as sns\n",
    "from sklearn.model_selection import train_test_split\n",
    "from sklearn.preprocessing import StandardScaler\n",
    "from sklearn import linear_model\n",
    "from sklearn import metrics\n",
    "from sklearn import preprocessing\n",
    "import numpy as np"
   ]
  },
  {
   "cell_type": "code",
   "execution_count": 3,
   "metadata": {},
   "outputs": [],
   "source": [
    "#删除outlier\n",
    "train_df = pd.read_csv('train.csv',header=0,index_col='id',parse_dates=['purchase_date','release_date']).assign(is_train = 1)\n",
    "train_df = train_df.drop(index=[220,312],axis=0)"
   ]
  },
  {
   "cell_type": "code",
   "execution_count": 4,
   "metadata": {},
   "outputs": [
    {
     "data": {
      "text/plain": [
       "playtime_forever          1.000000\n",
       "is_free                  -0.020551\n",
       "price                     0.125842\n",
       "total_positive_reviews    0.402915\n",
       "total_negative_reviews    0.393285\n",
       "is_train                       NaN\n",
       "Name: playtime_forever, dtype: float64"
      ]
     },
     "execution_count": 4,
     "metadata": {},
     "output_type": "execute_result"
    }
   ],
   "source": [
    "X_df = train_df.drop('playtime_forever',axis=1)\n",
    "y_df = train_df.playtime_forever\n",
    "train_df.corr().playtime_forever"
   ]
  },
  {
   "cell_type": "code",
   "execution_count": 5,
   "metadata": {},
   "outputs": [],
   "source": [
    "test_df = pd.read_csv('test.csv',header=0,index_col='id',parse_dates=['purchase_date','release_date']).assign(is_train = 0)\n",
    "df = pd.concat([X_df,test_df])"
   ]
  },
  {
   "cell_type": "code",
   "execution_count": 6,
   "metadata": {},
   "outputs": [],
   "source": [
    "#获取购入时间间隔\n",
    "df['time_gap'] = (df.purchase_date-df.release_date).apply(lambda x:x.days)"
   ]
  },
  {
   "cell_type": "code",
   "execution_count": 7,
   "metadata": {},
   "outputs": [],
   "source": [
    "#是否免费数字化\n",
    "df['is_free'] = np.multiply(df['is_free'],1)"
   ]
  },
  {
   "cell_type": "code",
   "execution_count": 8,
   "metadata": {},
   "outputs": [],
   "source": [
    "df = df.drop(['purchase_date','release_date'],axis=1)"
   ]
  },
  {
   "cell_type": "code",
   "execution_count": 9,
   "metadata": {},
   "outputs": [],
   "source": [
    "df = df.fillna(df.mean())"
   ]
  },
  {
   "cell_type": "code",
   "execution_count": 10,
   "metadata": {},
   "outputs": [],
   "source": [
    "#onehot处理\n",
    "genres = df['genres'].str.split(',')\n",
    "genres = genres.str.join(sep=',').str.get_dummies(sep=',')\n",
    "categories = df.categories.str.get_dummies(',')\n",
    "tags = df.tags.str.get_dummies(',')"
   ]
  },
  {
   "cell_type": "code",
   "execution_count": 11,
   "metadata": {},
   "outputs": [],
   "source": [
    "ndf = pd.concat([df.reset_index(drop=True),categories.reset_index(drop=True),genres.reset_index(drop=True),tags.reset_index(drop=True)], axis=1)"
   ]
  },
  {
   "cell_type": "code",
   "execution_count": 12,
   "metadata": {},
   "outputs": [],
   "source": [
    "ndf = ndf.drop([\"genres\",\"categories\",\"tags\",\"is_free\"],axis = 1)"
   ]
  },
  {
   "cell_type": "code",
   "execution_count": 13,
   "metadata": {},
   "outputs": [],
   "source": [
    "#数据处理\n",
    "standardOPT = lambda x:(x-np.mean(x))/(np.std(x))\n",
    "normalizationOPT = lambda x : (x-np.min(x))/(np.max(x)-np.min(x))\n",
    "process_cols = ['price', 'total_positive_reviews', 'total_negative_reviews', 'time_gap']"
   ]
  },
  {
   "cell_type": "code",
   "execution_count": 14,
   "metadata": {},
   "outputs": [],
   "source": [
    "for x in process_cols:\n",
    "    ndf[x] = ndf[[x]].apply(normalizationOPT)\n",
    "    ndf[x] = ndf[[x]].apply(standardOPT)"
   ]
  },
  {
   "cell_type": "code",
   "execution_count": 16,
   "metadata": {},
   "outputs": [],
   "source": [
    "nX_df = ndf[ndf['is_train'] == 1].reset_index().drop(\"index\",axis = 1)\n",
    "ntest  = ndf[ndf['is_train'] == 0].reset_index().drop(\"index\",axis = 1)\n",
    "X = nX_df\n",
    "y = y_df"
   ]
  },
  {
   "cell_type": "code",
   "execution_count": 17,
   "metadata": {},
   "outputs": [],
   "source": [
    "from sklearn.ensemble import RandomForestRegressor\n",
    "from sklearn.model_selection import cross_val_score\n",
    "rf = RandomForestRegressor(n_estimators=500, random_state=345)\n",
    "rf.fit(X, y)\n",
    "\n",
    "accuracies = cross_val_score(estimator = rf, X=X, y=y, cv=3, scoring='neg_mean_squared_error')\n",
    "rmse_rf = np.sqrt(-accuracies).mean()"
   ]
  },
  {
   "cell_type": "code",
   "execution_count": 18,
   "metadata": {},
   "outputs": [
    {
     "data": {
      "text/plain": [
       "10.179420758185817"
      ]
     },
     "execution_count": 18,
     "metadata": {},
     "output_type": "execute_result"
    }
   ],
   "source": [
    "rmse_rf"
   ]
  },
  {
   "cell_type": "code",
   "execution_count": 19,
   "metadata": {},
   "outputs": [],
   "source": [
    "y_pred = rf.predict(ntest)\n",
    "result_rf = pd.DataFrame(y_pred)\n",
    "result_rf['id']=range(len(result_rf))\n",
    "result_rf.set_index('id',inplace=True)\n",
    "result_rf.columns = ['playtime_forever']\n",
    "result_rf.to_csv(\"./rf_tag_only.csv\",index=True)"
   ]
  },
  {
   "cell_type": "code",
   "execution_count": 26,
   "metadata": {},
   "outputs": [
    {
     "name": "stderr",
     "output_type": "stream",
     "text": [
      "D:\\Anaconda3\\lib\\site-packages\\sklearn\\ensemble\\forest.py:245: FutureWarning: The default value of n_estimators will change from 10 in version 0.20 to 100 in 0.22.\n",
      "  \"10 in version 0.20 to 100 in 0.22.\", FutureWarning)\n"
     ]
    },
    {
     "name": "stdout",
     "output_type": "stream",
     "text": [
      "11.703702188565918\n"
     ]
    }
   ],
   "source": [
    "rf = RandomForestRegressor()\n",
    "rf.fit(X, y)\n",
    "\n",
    "accuracies = cross_val_score(estimator = rf, X=X, y=y, cv=3, scoring='neg_mean_squared_error')\n",
    "rmse_rf = np.sqrt(-accuracies).mean()\n",
    "print(rmse_rf)"
   ]
  },
  {
   "cell_type": "code",
   "execution_count": 27,
   "metadata": {},
   "outputs": [],
   "source": [
    "y_pred = rf.predict(ntest)\n",
    "result_rf = pd.DataFrame(y_pred)\n",
    "result_rf['id']=range(len(result_rf))\n",
    "result_rf.set_index('id',inplace=True)\n",
    "result_rf.columns = ['playtime_forever']\n",
    "result_rf.to_csv(\"./rf_none.csv\",index=True)"
   ]
  },
  {
   "cell_type": "code",
   "execution_count": null,
   "metadata": {},
   "outputs": [],
   "source": []
  }
 ],
 "metadata": {
  "kernelspec": {
   "display_name": "Python 3",
   "language": "python",
   "name": "python3"
  },
  "language_info": {
   "codemirror_mode": {
    "name": "ipython",
    "version": 3
   },
   "file_extension": ".py",
   "mimetype": "text/x-python",
   "name": "python",
   "nbconvert_exporter": "python",
   "pygments_lexer": "ipython3",
   "version": "3.6.9"
  }
 },
 "nbformat": 4,
 "nbformat_minor": 2
}
